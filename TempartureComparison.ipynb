{
  "nbformat": 4,
  "nbformat_minor": 0,
  "metadata": {
    "colab": {
      "provenance": [],
      "authorship_tag": "ABX9TyMYHUWLRw2dnE1oASyh7Wfj",
      "include_colab_link": true
    },
    "kernelspec": {
      "name": "python3",
      "display_name": "Python 3"
    },
    "language_info": {
      "name": "python"
    }
  },
  "cells": [
    {
      "cell_type": "markdown",
      "metadata": {
        "id": "view-in-github",
        "colab_type": "text"
      },
      "source": [
        "<a href=\"https://colab.research.google.com/github/Yasertb/Google-Earth-Engine/blob/main/TempartureComparison.ipynb\" target=\"_parent\"><img src=\"https://colab.research.google.com/assets/colab-badge.svg\" alt=\"Open In Colab\"/></a>"
      ]
    },
    {
      "cell_type": "code",
      "execution_count": null,
      "metadata": {
        "id": "GXAQkV4_DDUO"
      },
      "outputs": [],
      "source": [
        "import ee\n",
        "import geemap as gee"
      ]
    },
    {
      "cell_type": "code",
      "source": [
        "ee.Authenticate()\n",
        "ee.Initialize(project='ee-tahmasebiyaser')"
      ],
      "metadata": {
        "id": "d1D2192JEo5z"
      },
      "execution_count": null,
      "outputs": []
    },
    {
      "cell_type": "code",
      "source": [
        "Map = gee.Map(basemap= 'SATELLITE')\n",
        "Map"
      ],
      "metadata": {
        "id": "05pI74TzFWOk"
      },
      "execution_count": null,
      "outputs": []
    },
    {
      "cell_type": "code",
      "source": [
        "# Define the urban location of interest as a point near Ahvaz, France.\n",
        "u_lon = 48.68\n",
        "u_lat = 31.34\n",
        "u_poi = ee.Geometry.Point(u_lon, u_lat)\n",
        "\n",
        "# Define the rural location of interest as a point away from the city.\n",
        "r_lon = 48.86\n",
        "r_lat = 31.48\n",
        "r_poi = ee.Geometry.Point(r_lon, r_lat)"
      ],
      "metadata": {
        "id": "ZKP4BY8vJhXv"
      },
      "execution_count": null,
      "outputs": []
    },
    {
      "cell_type": "code",
      "source": [
        "Map.addLayer(u_poi, {'color': 'blue'}, 'Urban location')\n",
        "Map.addLayer(r_poi, {'color': 'orange'}, 'Rural location')"
      ],
      "metadata": {
        "id": "jwN8ZGV5e-mi"
      },
      "execution_count": null,
      "outputs": []
    },
    {
      "cell_type": "code",
      "source": [
        "# Import the MODIS land cover collection.\n",
        "lc = ee.ImageCollection('MODIS/006/MCD12Q1')\n",
        "\n",
        "# Import the MODIS land surface temperature collection.\n",
        "lst = ee.ImageCollection('MODIS/006/MOD11A1')\n",
        "\n",
        "# Import the USGS ground elevation image.\n",
        "elv = ee.Image('USGS/SRTMGL1_003')"
      ],
      "metadata": {
        "id": "vc6NlrphfLi5"
      },
      "execution_count": null,
      "outputs": []
    },
    {
      "cell_type": "code",
      "source": [
        "# Initial date of interest (inclusive).\n",
        "i_date = '2020-01-01'\n",
        "\n",
        "# Final date of interest (exclusive).\n",
        "f_date = '2023-01-01'\n",
        "\n",
        "# Selection of appropriate bands and dates for LST.\n",
        "lst = lst.select('LST_Day_1km', 'QC_Day').filterDate(i_date, f_date)"
      ],
      "metadata": {
        "id": "IEc71DEOfeLa"
      },
      "execution_count": null,
      "outputs": []
    },
    {
      "cell_type": "code",
      "source": [
        "scale = 1000;\n",
        "elv_urban_point  = elv.sample(u_poi,scale).first().get('elevation').getInfo()\n",
        "elv_urban_point"
      ],
      "metadata": {
        "id": "7hRDMEBOfiHM"
      },
      "execution_count": null,
      "outputs": []
    },
    {
      "cell_type": "code",
      "source": [
        "lst_urban_point = lst.first().sample(u_poi,scale).first().get('LST_Day_1km').getInfo()\n",
        "round((lst_urban_point*0.02)-273.15)"
      ],
      "metadata": {
        "id": "dB03Qz4Nguim"
      },
      "execution_count": null,
      "outputs": []
    },
    {
      "cell_type": "code",
      "source": [],
      "metadata": {
        "id": "OU_bHgANlR1y"
      },
      "execution_count": null,
      "outputs": []
    },
    {
      "cell_type": "code",
      "source": [
        "lc_urban_point = lc.first().sample(u_poi,scale).first().get('LC_Type1').getInfo()\n",
        "lc_urban_point"
      ],
      "metadata": {
        "id": "EdHGwJuoiAgX"
      },
      "execution_count": null,
      "outputs": []
    },
    {
      "cell_type": "code",
      "source": [
        "# Get the data for the pixel intersecting the point in urban area.\n",
        "lst_u_poi = lst.getRegion(u_poi, scale).getInfo()\n",
        "\n",
        "# Get the data for the pixel intersecting the point in rural area.\n",
        "lst_r_poi = lst.getRegion(r_poi, scale).getInfo()\n",
        "\n",
        "# Preview the result.\n",
        "lst_u_poi[:5]"
      ],
      "metadata": {
        "id": "8KsrcNO0mkGu"
      },
      "execution_count": null,
      "outputs": []
    },
    {
      "cell_type": "code",
      "source": [
        "import pandas as pd"
      ],
      "metadata": {
        "id": "PnxLUuqcmuA8"
      },
      "execution_count": null,
      "outputs": []
    },
    {
      "cell_type": "code",
      "source": [
        "def ee_array_to_df(arr, list_of_bands):\n",
        "\n",
        "    df = pd.DataFrame(arr)\n",
        "    header = df.iloc[0]\n",
        "    df= df[1:]\n",
        "    df.columns = header\n",
        "    df = df[['longitude', 'latitude', 'time', list_of_bands]].dropna()\n",
        "\n",
        "    for band in list_of_bands:\n",
        "      df[list_of_bands]=pd.to_numeric(df[list_of_bands],errors='coerce')\n",
        "\n",
        "    df['datetime'] = pd.to_datetime(df['time'],unit='ms')\n",
        "    df = df[['time','datetime',  list_of_bands]]\n",
        "    return df"
      ],
      "metadata": {
        "id": "B-4BDvDLm1PI"
      },
      "execution_count": null,
      "outputs": []
    },
    {
      "cell_type": "code",
      "source": [
        "lst_df_urban = ee_array_to_df(lst_u_poi,'LST_Day_1km')"
      ],
      "metadata": {
        "id": "zOWMj4TIn7ur"
      },
      "execution_count": null,
      "outputs": []
    },
    {
      "cell_type": "code",
      "source": [
        "lst_df_urban"
      ],
      "metadata": {
        "id": "z7V_VIVBxToi"
      },
      "execution_count": null,
      "outputs": []
    },
    {
      "cell_type": "code",
      "source": [
        "def t_modis_to_celsius(t_modis):\n",
        "  t_celsius =  0.02*t_modis-273.15\n",
        "  return t_celsius"
      ],
      "metadata": {
        "id": "AISdBx1dix83"
      },
      "execution_count": null,
      "outputs": []
    },
    {
      "cell_type": "code",
      "source": [
        "lst_df_urban['LST_Day_1km'] = lst_df_urban['LST_Day_1km'].apply(t_modis_to_celsius)\n",
        "\n",
        "lst_df_rural = ee_array_to_df(lst_r_poi,'LST_Day_1km')\n",
        "lst_df_rural['LST_Day_1km'] = lst_df_rural['LST_Day_1km'].apply(t_modis_to_celsius)"
      ],
      "metadata": {
        "id": "TVyNq6NFynhF"
      },
      "execution_count": null,
      "outputs": []
    },
    {
      "cell_type": "code",
      "source": [
        "import numpy as np\n",
        "import matplotlib.pyplot as plt\n",
        "from scipy import optimize"
      ],
      "metadata": {
        "id": "pBgADt9p5AT2"
      },
      "execution_count": null,
      "outputs": []
    },
    {
      "cell_type": "code",
      "source": [
        "x_data_u = np.asanyarray(lst_df_urban['time'].apply(float))\n",
        "x_data_r = np.asanyarray(lst_df_rural['time'].apply(float))"
      ],
      "metadata": {
        "id": "ZQE3Fl0YzulA"
      },
      "execution_count": null,
      "outputs": []
    },
    {
      "cell_type": "code",
      "source": [
        "y_data_u = np.asanyarray(lst_df_urban['LST_Day_1km'].apply(float))\n",
        "y_data_r = np.asanyarray(lst_df_rural['LST_Day_1km'].apply(float))"
      ],
      "metadata": {
        "id": "ZdAa5FeM2FCO"
      },
      "execution_count": null,
      "outputs": []
    },
    {
      "cell_type": "code",
      "source": [
        "def fit_func(t,lst0,delta_lst,tau,phi):\n",
        "  return lst0+(delta_lst/2)*np.sin(2*np.pi*t/tau+phi)"
      ],
      "metadata": {
        "id": "LdymZkd74-c6"
      },
      "execution_count": null,
      "outputs": []
    },
    {
      "cell_type": "code",
      "source": [
        "## Optimize the parameters using a good start p0.\n",
        "lst0 = 30\n",
        "delta_lst = 50\n",
        "tau = 365*24*3600*1000   # milliseconds in a year\n",
        "phi = 2*np.pi*4*30.5*3600*1000/tau  # offset regarding when we expect LST(t)=LST0"
      ],
      "metadata": {
        "id": "Tw8VKKEy6PtK"
      },
      "execution_count": null,
      "outputs": []
    },
    {
      "cell_type": "code",
      "source": [
        "params_u,cov_u = optimize.curve_fit(fit_func,xdata=x_data_u,ydata=y_data_u,p0=[lst0, delta_lst, tau, phi])\n",
        "params_r,cov_r = optimize.curve_fit(fit_func,xdata=x_data_r,ydata=y_data_r,p0=[lst0, delta_lst, tau, phi])"
      ],
      "metadata": {
        "id": "faX6Us3F6RSO"
      },
      "execution_count": null,
      "outputs": []
    },
    {
      "cell_type": "code",
      "source": [
        "print('Params urban curve:',params_u)\n",
        "print('Covariance urban curve:',cov_u)\n",
        "print('Params rural curve:',params_r)\n",
        "print('Covariance rural curve:',cov_r)"
      ],
      "metadata": {
        "id": "Fz7_PyC_VjcR"
      },
      "execution_count": null,
      "outputs": []
    },
    {
      "cell_type": "code",
      "source": [
        "fig, ax = plt.subplots(figsize=(15,6))\n",
        "ax.scatter(lst_df_urban['datetime'],lst_df_urban['LST_Day_1km'],c='orange',alpha=0.2,label='Urban Data')\n",
        "ax.scatter(lst_df_rural['datetime'],lst_df_rural['LST_Day_1km'],c='Green',alpha=0.3,label='Green Area Data')\n",
        "ax.plot(lst_df_urban['datetime'],fit_func(x_data_u,params_u[0],params_u[1],params_u[2],params_u[3]),label='Urban fitted curve',c=\"orange\",lw=2.5)\n",
        "ax.plot(lst_df_rural['datetime'],fit_func(x_data_r,params_r[0],params_r[1],params_r[2],params_r[3]),label='Green Area fitted curve',c=\"Green\",lw=2.5)\n",
        "ax.set_xlabel('Date', fontsize=14)\n",
        "ax.set_ylabel('Temperature [C]', fontsize=14)\n",
        "ax.set_ylim(-0, 60)\n",
        "ax.grid(lw=0.2)\n",
        "ax.legend(fontsize=10, loc='lower right')\n",
        "\n",
        "plt.show()"
      ],
      "metadata": {
        "id": "UWtMmU9aWPy2"
      },
      "execution_count": null,
      "outputs": []
    }
  ]
}